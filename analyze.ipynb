{
 "cells": [
  {
   "cell_type": "code",
   "execution_count": 1,
   "metadata": {},
   "outputs": [],
   "source": [
    "import pandas as pd \n",
    "import numpy as np \n",
    "import matplotlib.pyplot as plt \n",
    "import seaborn as sns \n",
    "sns.set()"
   ]
  },
  {
   "cell_type": "code",
   "execution_count": 2,
   "metadata": {},
   "outputs": [
    {
     "data": {
      "text/html": [
       "<div>\n",
       "<style scoped>\n",
       "    .dataframe tbody tr th:only-of-type {\n",
       "        vertical-align: middle;\n",
       "    }\n",
       "\n",
       "    .dataframe tbody tr th {\n",
       "        vertical-align: top;\n",
       "    }\n",
       "\n",
       "    .dataframe thead th {\n",
       "        text-align: right;\n",
       "    }\n",
       "</style>\n",
       "<table border=\"1\" class=\"dataframe\">\n",
       "  <thead>\n",
       "    <tr style=\"text-align: right;\">\n",
       "      <th></th>\n",
       "      <th>Country</th>\n",
       "      <th>Year</th>\n",
       "      <th>Number of reported cases of cholera</th>\n",
       "      <th>Number of reported deaths from cholera</th>\n",
       "      <th>Cholera case fatality rate</th>\n",
       "      <th>WHO Region</th>\n",
       "    </tr>\n",
       "  </thead>\n",
       "  <tbody>\n",
       "    <tr>\n",
       "      <th>0</th>\n",
       "      <td>Afghanistan</td>\n",
       "      <td>2016</td>\n",
       "      <td>677</td>\n",
       "      <td>5</td>\n",
       "      <td>0.70</td>\n",
       "      <td>Eastern Mediterranean</td>\n",
       "    </tr>\n",
       "    <tr>\n",
       "      <th>1</th>\n",
       "      <td>Afghanistan</td>\n",
       "      <td>2015</td>\n",
       "      <td>58064</td>\n",
       "      <td>8</td>\n",
       "      <td>0.01</td>\n",
       "      <td>Eastern Mediterranean</td>\n",
       "    </tr>\n",
       "    <tr>\n",
       "      <th>2</th>\n",
       "      <td>Afghanistan</td>\n",
       "      <td>2014</td>\n",
       "      <td>45481</td>\n",
       "      <td>4</td>\n",
       "      <td>0.00</td>\n",
       "      <td>Eastern Mediterranean</td>\n",
       "    </tr>\n",
       "    <tr>\n",
       "      <th>3</th>\n",
       "      <td>Afghanistan</td>\n",
       "      <td>2013</td>\n",
       "      <td>3957</td>\n",
       "      <td>14</td>\n",
       "      <td>0.35</td>\n",
       "      <td>Eastern Mediterranean</td>\n",
       "    </tr>\n",
       "    <tr>\n",
       "      <th>4</th>\n",
       "      <td>Afghanistan</td>\n",
       "      <td>2012</td>\n",
       "      <td>12</td>\n",
       "      <td>0</td>\n",
       "      <td>0.10</td>\n",
       "      <td>Eastern Mediterranean</td>\n",
       "    </tr>\n",
       "  </tbody>\n",
       "</table>\n",
       "</div>"
      ],
      "text/plain": [
       "       Country  Year  Number of reported cases of cholera  \\\n",
       "0  Afghanistan  2016                                  677   \n",
       "1  Afghanistan  2015                                58064   \n",
       "2  Afghanistan  2014                                45481   \n",
       "3  Afghanistan  2013                                 3957   \n",
       "4  Afghanistan  2012                                   12   \n",
       "\n",
       "   Number of reported deaths from cholera  Cholera case fatality rate  \\\n",
       "0                                       5                        0.70   \n",
       "1                                       8                        0.01   \n",
       "2                                       4                        0.00   \n",
       "3                                      14                        0.35   \n",
       "4                                       0                        0.10   \n",
       "\n",
       "              WHO Region  \n",
       "0  Eastern Mediterranean  \n",
       "1  Eastern Mediterranean  \n",
       "2  Eastern Mediterranean  \n",
       "3  Eastern Mediterranean  \n",
       "4  Eastern Mediterranean  "
      ]
     },
     "execution_count": 2,
     "metadata": {},
     "output_type": "execute_result"
    }
   ],
   "source": [
    "data = pd.read_csv('analyzed_data.csv')\n",
    "data.head()"
   ]
  },
  {
   "cell_type": "code",
   "execution_count": 3,
   "metadata": {},
   "outputs": [
    {
     "name": "stdout",
     "output_type": "stream",
     "text": [
      "<class 'pandas.core.frame.DataFrame'>\n",
      "RangeIndex: 2373 entries, 0 to 2372\n",
      "Data columns (total 6 columns):\n",
      " #   Column                                  Non-Null Count  Dtype  \n",
      "---  ------                                  --------------  -----  \n",
      " 0   Country                                 2373 non-null   object \n",
      " 1   Year                                    2373 non-null   int64  \n",
      " 2   Number of reported cases of cholera     2373 non-null   int64  \n",
      " 3   Number of reported deaths from cholera  2373 non-null   int64  \n",
      " 4   Cholera case fatality rate              2352 non-null   float64\n",
      " 5   WHO Region                              2373 non-null   object \n",
      "dtypes: float64(1), int64(3), object(2)\n",
      "memory usage: 111.4+ KB\n"
     ]
    }
   ],
   "source": [
    "data.info()"
   ]
  },
  {
   "cell_type": "code",
   "execution_count": 12,
   "metadata": {},
   "outputs": [
    {
     "data": {
      "text/plain": [
       "Country\n",
       "Afghanistan                           12563\n",
       "Albania                                 626\n",
       "Algeria                                 636\n",
       "Andorra                                   1\n",
       "Angola                                 7641\n",
       "                                      ...  \n",
       "Venezuela (Bolivarian Republic of)      696\n",
       "Viet Nam                               1589\n",
       "Yemen                                  4035\n",
       "Zambia                                 3485\n",
       "Zimbabwe                               6670\n",
       "Name: Number of reported cases of cholera, Length: 161, dtype: int64"
      ]
     },
     "execution_count": 12,
     "metadata": {},
     "output_type": "execute_result"
    }
   ],
   "source": [
    "1- The average number of reported cases of cholera based on the following condition:\n",
    "data.groupby('Country')['Number of reported cases of cholera'].mean().astype(int)"
   ]
  },
  {
   "cell_type": "code",
   "execution_count": 16,
   "metadata": {},
   "outputs": [
    {
     "data": {
      "text/plain": [
       "1293054"
      ]
     },
     "execution_count": 16,
     "metadata": {},
     "output_type": "execute_result"
    }
   ],
   "source": [
    "data.groupby('Country')['Number of reported cases of cholera'].sum().astype(int).max()"
   ]
  },
  {
   "cell_type": "code",
   "execution_count": 13,
   "metadata": {},
   "outputs": [
    {
     "data": {
      "text/plain": [
       "Country\n",
       "Afghanistan                           125\n",
       "Albania                                25\n",
       "Algeria                                32\n",
       "Andorra                                 0\n",
       "Angola                                396\n",
       "                                     ... \n",
       "Venezuela (Bolivarian Republic of)     16\n",
       "Viet Nam                               34\n",
       "Yemen                                  44\n",
       "Zambia                                174\n",
       "Zimbabwe                              310\n",
       "Name: Number of reported deaths from cholera, Length: 161, dtype: int64"
      ]
     },
     "execution_count": 13,
     "metadata": {},
     "output_type": "execute_result"
    }
   ],
   "source": [
    "2-The average number of reported deaths from cholera based on the following condition:\n",
    "data.groupby('Country')['Number of reported deaths from cholera'].mean().astype(int)"
   ]
  },
  {
   "cell_type": "code",
   "execution_count": 14,
   "metadata": {},
   "outputs": [
    {
     "data": {
      "text/plain": [
       "Country\n",
       "Afghanistan                            4.110952\n",
       "Albania                                3.990000\n",
       "Algeria                                4.412500\n",
       "Andorra                                     NaN\n",
       "Angola                                 4.856400\n",
       "                                        ...    \n",
       "Venezuela (Bolivarian Republic of)     2.820000\n",
       "Viet Nam                              10.173696\n",
       "Yemen                                  5.414615\n",
       "Zambia                                11.567857\n",
       "Zimbabwe                               4.907391\n",
       "Name: Cholera case fatality rate, Length: 161, dtype: float64"
      ]
     },
     "execution_count": 14,
     "metadata": {},
     "output_type": "execute_result"
    }
   ],
   "source": [
    "3-The average number of cholera case fatality rate based on the following condition:\n",
    "data.groupby('Country')['Cholera case fatality rate'].mean()"
   ]
  },
  {
   "cell_type": "code",
   "execution_count": 9,
   "metadata": {},
   "outputs": [
    {
     "data": {
      "text/plain": [
       "1293054"
      ]
     },
     "execution_count": 9,
     "metadata": {},
     "output_type": "execute_result"
    }
   ],
   "source": [
    "data.groupby('Country')['Number of reported cases of cholera'].sum().astype(int).max()"
   ]
  },
  {
   "cell_type": "code",
   "execution_count": 7,
   "metadata": {},
   "outputs": [
    {
     "data": {
      "text/html": [
       "<div>\n",
       "<style scoped>\n",
       "    .dataframe tbody tr th:only-of-type {\n",
       "        vertical-align: middle;\n",
       "    }\n",
       "\n",
       "    .dataframe tbody tr th {\n",
       "        vertical-align: top;\n",
       "    }\n",
       "\n",
       "    .dataframe thead th {\n",
       "        text-align: right;\n",
       "    }\n",
       "</style>\n",
       "<table border=\"1\" class=\"dataframe\">\n",
       "  <thead>\n",
       "    <tr style=\"text-align: right;\">\n",
       "      <th></th>\n",
       "      <th>Country</th>\n",
       "      <th>Year</th>\n",
       "      <th>Number of reported cases of cholera</th>\n",
       "      <th>Number of reported deaths from cholera</th>\n",
       "      <th>Cholera case fatality rate</th>\n",
       "      <th>WHO Region</th>\n",
       "    </tr>\n",
       "  </thead>\n",
       "  <tbody>\n",
       "    <tr>\n",
       "      <th>0</th>\n",
       "      <td>Afghanistan</td>\n",
       "      <td>2016</td>\n",
       "      <td>677</td>\n",
       "      <td>5</td>\n",
       "      <td>0.70</td>\n",
       "      <td>Eastern Mediterranean</td>\n",
       "    </tr>\n",
       "    <tr>\n",
       "      <th>1</th>\n",
       "      <td>Afghanistan</td>\n",
       "      <td>2015</td>\n",
       "      <td>58064</td>\n",
       "      <td>8</td>\n",
       "      <td>0.01</td>\n",
       "      <td>Eastern Mediterranean</td>\n",
       "    </tr>\n",
       "    <tr>\n",
       "      <th>2</th>\n",
       "      <td>Afghanistan</td>\n",
       "      <td>2014</td>\n",
       "      <td>45481</td>\n",
       "      <td>4</td>\n",
       "      <td>0.00</td>\n",
       "      <td>Eastern Mediterranean</td>\n",
       "    </tr>\n",
       "    <tr>\n",
       "      <th>3</th>\n",
       "      <td>Afghanistan</td>\n",
       "      <td>2013</td>\n",
       "      <td>3957</td>\n",
       "      <td>14</td>\n",
       "      <td>0.35</td>\n",
       "      <td>Eastern Mediterranean</td>\n",
       "    </tr>\n",
       "    <tr>\n",
       "      <th>4</th>\n",
       "      <td>Afghanistan</td>\n",
       "      <td>2012</td>\n",
       "      <td>12</td>\n",
       "      <td>0</td>\n",
       "      <td>0.10</td>\n",
       "      <td>Eastern Mediterranean</td>\n",
       "    </tr>\n",
       "    <tr>\n",
       "      <th>5</th>\n",
       "      <td>Afghanistan</td>\n",
       "      <td>2011</td>\n",
       "      <td>3733</td>\n",
       "      <td>44</td>\n",
       "      <td>1.18</td>\n",
       "      <td>Eastern Mediterranean</td>\n",
       "    </tr>\n",
       "    <tr>\n",
       "      <th>6</th>\n",
       "      <td>Afghanistan</td>\n",
       "      <td>2010</td>\n",
       "      <td>2369</td>\n",
       "      <td>10</td>\n",
       "      <td>0.42</td>\n",
       "      <td>Eastern Mediterranean</td>\n",
       "    </tr>\n",
       "    <tr>\n",
       "      <th>7</th>\n",
       "      <td>Afghanistan</td>\n",
       "      <td>2009</td>\n",
       "      <td>662</td>\n",
       "      <td>11</td>\n",
       "      <td>1.66</td>\n",
       "      <td>Eastern Mediterranean</td>\n",
       "    </tr>\n",
       "    <tr>\n",
       "      <th>8</th>\n",
       "      <td>Afghanistan</td>\n",
       "      <td>2008</td>\n",
       "      <td>4384</td>\n",
       "      <td>22</td>\n",
       "      <td>0.50</td>\n",
       "      <td>Eastern Mediterranean</td>\n",
       "    </tr>\n",
       "    <tr>\n",
       "      <th>9</th>\n",
       "      <td>Afghanistan</td>\n",
       "      <td>2005</td>\n",
       "      <td>33</td>\n",
       "      <td>0</td>\n",
       "      <td>0.00</td>\n",
       "      <td>Eastern Mediterranean</td>\n",
       "    </tr>\n",
       "  </tbody>\n",
       "</table>\n",
       "</div>"
      ],
      "text/plain": [
       "       Country  Year  Number of reported cases of cholera  \\\n",
       "0  Afghanistan  2016                                  677   \n",
       "1  Afghanistan  2015                                58064   \n",
       "2  Afghanistan  2014                                45481   \n",
       "3  Afghanistan  2013                                 3957   \n",
       "4  Afghanistan  2012                                   12   \n",
       "5  Afghanistan  2011                                 3733   \n",
       "6  Afghanistan  2010                                 2369   \n",
       "7  Afghanistan  2009                                  662   \n",
       "8  Afghanistan  2008                                 4384   \n",
       "9  Afghanistan  2005                                   33   \n",
       "\n",
       "   Number of reported deaths from cholera  Cholera case fatality rate  \\\n",
       "0                                       5                        0.70   \n",
       "1                                       8                        0.01   \n",
       "2                                       4                        0.00   \n",
       "3                                      14                        0.35   \n",
       "4                                       0                        0.10   \n",
       "5                                      44                        1.18   \n",
       "6                                      10                        0.42   \n",
       "7                                      11                        1.66   \n",
       "8                                      22                        0.50   \n",
       "9                                       0                        0.00   \n",
       "\n",
       "              WHO Region  \n",
       "0  Eastern Mediterranean  \n",
       "1  Eastern Mediterranean  \n",
       "2  Eastern Mediterranean  \n",
       "3  Eastern Mediterranean  \n",
       "4  Eastern Mediterranean  \n",
       "5  Eastern Mediterranean  \n",
       "6  Eastern Mediterranean  \n",
       "7  Eastern Mediterranean  \n",
       "8  Eastern Mediterranean  \n",
       "9  Eastern Mediterranean  "
      ]
     },
     "execution_count": 7,
     "metadata": {},
     "output_type": "execute_result"
    }
   ],
   "source": [
    "data.head(10)"
   ]
  }
 ],
 "metadata": {
  "kernelspec": {
   "display_name": "Python 3",
   "language": "python",
   "name": "python3"
  },
  "language_info": {
   "codemirror_mode": {
    "name": "ipython",
    "version": 3
   },
   "file_extension": ".py",
   "mimetype": "text/x-python",
   "name": "python",
   "nbconvert_exporter": "python",
   "pygments_lexer": "ipython3",
   "version": "3.10.12"
  }
 },
 "nbformat": 4,
 "nbformat_minor": 2
}
